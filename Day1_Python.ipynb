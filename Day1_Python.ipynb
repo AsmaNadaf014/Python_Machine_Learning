{
  "nbformat": 4,
  "nbformat_minor": 0,
  "metadata": {
    "colab": {
      "provenance": []
    },
    "kernelspec": {
      "name": "python3",
      "display_name": "Python 3"
    },
    "language_info": {
      "name": "python"
    }
  },
  "cells": [
    {
      "cell_type": "code",
      "execution_count": null,
      "metadata": {
        "id": "1kQyhFusySJ4"
      },
      "outputs": [],
      "source": []
    },
    {
      "cell_type": "code",
      "source": [],
      "metadata": {
        "id": "5U_npe_Y-PnJ"
      },
      "execution_count": null,
      "outputs": []
    },
    {
      "cell_type": "code",
      "source": [
        "name='asma'\n",
        "print(f\"my name is {name}\")"
      ],
      "metadata": {
        "colab": {
          "base_uri": "https://localhost:8080/"
        },
        "id": "CZdR-H0h-SZz",
        "outputId": "d807cc33-aee4-4795-d246-24160f4d45c4"
      },
      "execution_count": null,
      "outputs": [
        {
          "output_type": "stream",
          "name": "stdout",
          "text": [
            "my name is asma\n"
          ]
        }
      ]
    },
    {
      "cell_type": "markdown",
      "source": [
        "#python syntax & Structure"
      ],
      "metadata": {
        "id": "MuhndyGPHhAh"
      }
    },
    {
      "cell_type": "markdown",
      "source": [
        "##Basics syntax rules"
      ],
      "metadata": {
        "id": "_yhlP-FFIBzC"
      }
    },
    {
      "cell_type": "code",
      "source": [
        "print(\"Hello, World!\")#function call\n",
        "x=5#variable\n",
        "y=10#No need to declear type"
      ],
      "metadata": {
        "colab": {
          "base_uri": "https://localhost:8080/"
        },
        "id": "tRmbAc4WGM8B",
        "outputId": "0ffa0caf-0504-4f95-a7fb-c98f61d3da58"
      },
      "execution_count": null,
      "outputs": [
        {
          "output_type": "stream",
          "name": "stdout",
          "text": [
            "Hello, World!\n"
          ]
        }
      ]
    },
    {
      "cell_type": "markdown",
      "source": [
        "##python is case_sensitive"
      ],
      "metadata": {
        "id": "HI1vADpOII4x"
      }
    },
    {
      "cell_type": "code",
      "source": [
        "Name=\"john\"\n",
        "name=\"jane\"\n",
        "print(f\"name is {name} and name is {name}\")#Different Variables"
      ],
      "metadata": {
        "colab": {
          "base_uri": "https://localhost:8080/"
        },
        "id": "CmGXv6SmIXGY",
        "outputId": "82810059-dc31-4cf1-dbf9-abdb0226a9e8"
      },
      "execution_count": null,
      "outputs": [
        {
          "output_type": "stream",
          "name": "stdout",
          "text": [
            "name is jane and name is jane\n"
          ]
        }
      ]
    },
    {
      "cell_type": "markdown",
      "source": [
        "##Indentation matters"
      ],
      "metadata": {
        "id": "U87jb3AhIwdJ"
      }
    },
    {
      "cell_type": "code",
      "source": [
        "if x>0:\n",
        "  print(\"x is poistive\")#4spaces indentation\n",
        "  print(\"this is inside the if block\")"
      ],
      "metadata": {
        "colab": {
          "base_uri": "https://localhost:8080/"
        },
        "id": "Uj05iasLI5fw",
        "outputId": "32e25002-b61e-4e95-c7f1-62e4274875f7"
      },
      "execution_count": null,
      "outputs": [
        {
          "output_type": "stream",
          "name": "stdout",
          "text": [
            "x is poistive\n",
            "this is inside the if block\n"
          ]
        }
      ]
    },
    {
      "cell_type": "markdown",
      "source": [
        "##Variables & Datatypes"
      ],
      "metadata": {
        "id": "TiYEPXtAJiPA"
      }
    },
    {
      "cell_type": "markdown",
      "source": [
        "Numeric Types"
      ],
      "metadata": {
        "id": "FRJn6AM6JwoZ"
      }
    },
    {
      "cell_type": "code",
      "source": [
        "age=25 #int\n",
        "height=5.5 #float\n",
        "complex_num=3+4j #complex"
      ],
      "metadata": {
        "id": "HJK3T8vbJ2Hp"
      },
      "execution_count": null,
      "outputs": []
    },
    {
      "cell_type": "markdown",
      "source": [
        "String Type"
      ],
      "metadata": {
        "id": "bmfk0_IYKV0p"
      }
    },
    {
      "cell_type": "code",
      "source": [
        "name=\"alice\"\n",
        "message='Hello World'\n",
        "multiline=\"\"\"this is a\n",
        "             multiline string type\"\"\"\n",
        "print(name,message,multiline)"
      ],
      "metadata": {
        "colab": {
          "base_uri": "https://localhost:8080/"
        },
        "id": "DBnxZm5JKaSx",
        "outputId": "16019ec9-8047-4693-cf49-146b34c05596"
      },
      "execution_count": null,
      "outputs": [
        {
          "output_type": "stream",
          "name": "stdout",
          "text": [
            "alice Hello World this is a\n",
            "             multiline string type\n"
          ]
        }
      ]
    },
    {
      "cell_type": "markdown",
      "source": [
        "Boolean type"
      ],
      "metadata": {
        "id": "HIUkK-wBNLuI"
      }
    },
    {
      "cell_type": "code",
      "source": [
        "is_active=True\n",
        "is_finished=False"
      ],
      "metadata": {
        "id": "QlwPvF-eNQOx"
      },
      "execution_count": null,
      "outputs": []
    },
    {
      "cell_type": "markdown",
      "source": [
        "Type Checking"
      ],
      "metadata": {
        "id": "n__uQUacNbTA"
      }
    },
    {
      "cell_type": "code",
      "source": [
        "print(type(age)) # <class 'int'>\n",
        "print(type(height)) # <class 'float'>\n",
        "print(type(name)) # <class 'str'>"
      ],
      "metadata": {
        "colab": {
          "base_uri": "https://localhost:8080/"
        },
        "id": "3Alf-yT8NiNB",
        "outputId": "c5d28bb0-eeba-4d4d-f7a4-539414331064"
      },
      "execution_count": null,
      "outputs": [
        {
          "output_type": "stream",
          "name": "stdout",
          "text": [
            "<class 'int'>\n",
            "<class 'float'>\n",
            "<class 'str'>\n"
          ]
        }
      ]
    },
    {
      "cell_type": "markdown",
      "source": [
        "Type Conversion"
      ],
      "metadata": {
        "id": "icsdOOVFOIzZ"
      }
    },
    {
      "cell_type": "code",
      "source": [
        "str_number=\"123\"\n",
        "int_number=int(str_number)\n",
        "float_number=float(str_number)\n",
        "\n",
        "print(f\"Oringinal{str_number} (type:{type(str_number)})\")\n",
        "print(f\"Interger:{int_number} (type:{type(int_number)})\")\n",
        "print(f\"Float:{float_number} (type:{type(float_number)})\")"
      ],
      "metadata": {
        "colab": {
          "base_uri": "https://localhost:8080/"
        },
        "id": "a8Fn84xWOQdJ",
        "outputId": "ec2fe1d7-31bf-4c94-ebf5-27f1ca19d4fc"
      },
      "execution_count": null,
      "outputs": [
        {
          "output_type": "stream",
          "name": "stdout",
          "text": [
            "Oringinal123 (type:<class 'str'>)\n",
            "Interger:123 (type:<class 'int'>)\n",
            "Float:123.0 (type:<class 'float'>)\n"
          ]
        }
      ]
    },
    {
      "cell_type": "markdown",
      "source": [
        "##Hands-on Exercise:"
      ],
      "metadata": {
        "id": "sNATU8nUf3JJ"
      }
    },
    {
      "cell_type": "markdown",
      "source": [
        "###Exercise 01:personal information"
      ],
      "metadata": {
        "id": "uqwoqmWzhhER"
      }
    },
    {
      "cell_type": "markdown",
      "source": [
        "Create variables for personal information"
      ],
      "metadata": {
        "id": "DjhiFunxht05"
      }
    },
    {
      "cell_type": "code",
      "source": [
        "first_name=\"Asma\"\n",
        "last_name=\"Nadaf\"\n",
        "age=19\n",
        "height=4.1\n",
        "is_student=True"
      ],
      "metadata": {
        "id": "naZ60jAHh44R"
      },
      "execution_count": null,
      "outputs": []
    },
    {
      "cell_type": "markdown",
      "source": [
        "print formatted information"
      ],
      "metadata": {
        "id": "8DZixh0OiURZ"
      }
    },
    {
      "cell_type": "code",
      "source": [
        "print(f\"Name: {first_name} {last_name}\")\n",
        "print(f\"Age: {age}\")\n",
        "print(f\"height: {height} feet\")\n",
        "print(f\"Student: {is_student}\")"
      ],
      "metadata": {
        "colab": {
          "base_uri": "https://localhost:8080/"
        },
        "id": "RSFNJ2lziczK",
        "outputId": "f9358581-30fb-45ac-df7b-af1956612826"
      },
      "execution_count": null,
      "outputs": [
        {
          "output_type": "stream",
          "name": "stdout",
          "text": [
            "Name: Asma Nadaf\n",
            "Age: 19\n",
            "height: 4.1 feet\n",
            "Student: True\n"
          ]
        }
      ]
    },
    {
      "cell_type": "markdown",
      "source": [
        "Type conversions"
      ],
      "metadata": {
        "id": "vBcQdzyYj_BZ"
      }
    },
    {
      "cell_type": "code",
      "source": [
        "age_str=str(age)\n",
        "height_int=int(height)\n",
        "print(f\"age as string: {age_str}\")\n",
        "print(f\"height as integer: {height_int}\")"
      ],
      "metadata": {
        "colab": {
          "base_uri": "https://localhost:8080/"
        },
        "id": "l3Ck0rsBkOBB",
        "outputId": "afe217a8-5c57-4cc8-bf99-4c5912c1d8d6"
      },
      "execution_count": null,
      "outputs": [
        {
          "output_type": "stream",
          "name": "stdout",
          "text": [
            "age as string: 19\n",
            "height as integer: 4\n"
          ]
        }
      ]
    },
    {
      "cell_type": "markdown",
      "source": [
        "##Operators&Basics Operation"
      ],
      "metadata": {
        "id": "Cx5hbGy4k7RJ"
      }
    },
    {
      "cell_type": "markdown",
      "source": [
        "Arithmatic Opertor"
      ],
      "metadata": {
        "id": "Qt-Sr6tjmm4h"
      }
    },
    {
      "cell_type": "code",
      "source": [
        "a=10\n",
        "b=3\n",
        "\n",
        "print(f\"Addition:{a}+{b}={a+b}\")\n",
        "print(f\"Subtraction:{a}-{b}={a-b}\")\n",
        "print(f\"Multiplication: {a}*{b}={a*b}\")\n",
        "print(f\"Division: {a}/{b}={a/b}\")\n",
        "print(f\"Floor Division:{a}//{b}={a//b}\")\n",
        "print(f\"modulas: {a}%{b}={a%b}\")\n",
        "print(f\"Exponentiation: {a}**{b}={a**b}\")\n"
      ],
      "metadata": {
        "colab": {
          "base_uri": "https://localhost:8080/"
        },
        "id": "kqeS412cmrHR",
        "outputId": "0472a839-fe0e-4956-8ba9-4f621129978b"
      },
      "execution_count": null,
      "outputs": [
        {
          "output_type": "stream",
          "name": "stdout",
          "text": [
            "Addition:10+3=13\n",
            "Subtraction:10-3=7\n",
            "Multiplication: 10*3=30\n",
            "Division: 10/3=3.3333333333333335\n",
            "Floor Division:10//3=3\n",
            "modulas: 10%3=1\n",
            "Exponentiation: 10**3=1000\n"
          ]
        }
      ]
    },
    {
      "cell_type": "markdown",
      "source": [
        "Order of operation(PEMDAS)\n",
        "\n",
        "\n",
        "\n",
        "*   P-Parenthesic\n",
        "*   E-Exponentiation\n",
        "*   M-Multiplication\n",
        "*   D-Division\n",
        "*   A-Addition\n",
        "*   S-Substration"
      ],
      "metadata": {
        "id": "IHXNISv5oVIC"
      }
    },
    {
      "cell_type": "code",
      "source": [
        "result=2+3*4**2-1\n",
        "print(f\"2+3*4**2-1={result}\")"
      ],
      "metadata": {
        "colab": {
          "base_uri": "https://localhost:8080/"
        },
        "id": "AN_2t4dBoJtp",
        "outputId": "8cd42fbb-a64f-4ec9-cb66-b037b03d0598"
      },
      "execution_count": null,
      "outputs": [
        {
          "output_type": "stream",
          "name": "stdout",
          "text": [
            "2+3*4**2-1=49\n"
          ]
        }
      ]
    },
    {
      "cell_type": "markdown",
      "source": [
        "Relational Operators(or)Comparison"
      ],
      "metadata": {
        "id": "oFjbaAG0p8K5"
      }
    },
    {
      "cell_type": "code",
      "source": [
        "x=5\n",
        "y=10\n",
        "\n",
        "print(f\"{x}=={y}: {x==y}\") #Equal to\n",
        "print(f\"{x}!={y}: {x!=y}\") #Not equal to\n",
        "print(f\"{x}<{y}: {x<y}\") #Less than\n",
        "print(f\"{x}>{y}: {x>y}\") #Greater than\n",
        "print(f\"{x}<={y}: {x<=y}\") #Lesser than or equal to\n",
        "print(f\"{x}>={y}: {x>=y}\") #Greter than or equal to"
      ],
      "metadata": {
        "colab": {
          "base_uri": "https://localhost:8080/"
        },
        "id": "X2WvTGJSqRmB",
        "outputId": "d12eb168-2138-4d42-b339-016a510327c6"
      },
      "execution_count": null,
      "outputs": [
        {
          "output_type": "stream",
          "name": "stdout",
          "text": [
            "5==10: False\n",
            "5!=10: True\n",
            "5<10: True\n",
            "5>10: False\n",
            "5<=10: True\n",
            "5>=10: False\n"
          ]
        }
      ]
    },
    {
      "cell_type": "markdown",
      "source": [
        "String Comparison"
      ],
      "metadata": {
        "id": "K9FbnmvtuNMp"
      }
    },
    {
      "cell_type": "code",
      "source": [
        "name1=\"Alice\"\n",
        "name2=\"Bob\"\n",
        "print(f\"'{name1}'<'{name2}':{name1<name2}\") #Alphabetical Order"
      ],
      "metadata": {
        "colab": {
          "base_uri": "https://localhost:8080/"
        },
        "id": "lUyc2RqwuSkq",
        "outputId": "d93acb72-b112-4b89-9b92-4354146435c7"
      },
      "execution_count": null,
      "outputs": [
        {
          "output_type": "stream",
          "name": "stdout",
          "text": [
            "'Alice'<'Bob':True\n"
          ]
        }
      ]
    },
    {
      "cell_type": "markdown",
      "source": [
        "Logical Opertors"
      ],
      "metadata": {
        "id": "YD0wR9kGvFBx"
      }
    },
    {
      "cell_type": "code",
      "source": [
        "p=True\n",
        "q=False\n",
        "\n",
        "print(f\"p and q: {p and q}\") #Both must be True\n",
        "print(f\"p or q: {p or q}\") #AtLeast one must be True\n",
        "print(f\"not p: {not p}\") #Opposite of p"
      ],
      "metadata": {
        "colab": {
          "base_uri": "https://localhost:8080/"
        },
        "id": "rQ_q_76FvmB5",
        "outputId": "9fed2fe5-c8ac-40f4-f219-c252f3de1f0a"
      },
      "execution_count": null,
      "outputs": [
        {
          "output_type": "stream",
          "name": "stdout",
          "text": [
            "p and q: False\n",
            "p or q: True\n",
            "not p: False\n"
          ]
        }
      ]
    },
    {
      "cell_type": "code",
      "source": [
        "#Practical Example\n",
        "age=20\n",
        "has_license=True\n",
        "can_drive=age>=18 and has_license\n",
        "print(f\"can Drive:{can_drive}\")"
      ],
      "metadata": {
        "colab": {
          "base_uri": "https://localhost:8080/"
        },
        "id": "532eUoeawsRC",
        "outputId": "b449f2d0-20ab-4655-bd7c-5143e7920063"
      },
      "execution_count": null,
      "outputs": [
        {
          "output_type": "stream",
          "name": "stdout",
          "text": [
            "can Drive:True\n"
          ]
        }
      ]
    },
    {
      "cell_type": "code",
      "source": [
        "#Muliple Condition\n",
        "score=85\n",
        "is_present= True\n",
        "can_pass=score >=80 and is_present\n",
        "print(f\"Can pass:{can_pass}\")"
      ],
      "metadata": {
        "colab": {
          "base_uri": "https://localhost:8080/"
        },
        "id": "b8XvhTjzxqch",
        "outputId": "160b65a7-6c70-4afe-dd2c-99ba4ae76b43"
      },
      "execution_count": null,
      "outputs": [
        {
          "output_type": "stream",
          "name": "stdout",
          "text": [
            "Can pass:True\n"
          ]
        }
      ]
    },
    {
      "cell_type": "markdown",
      "source": [
        "###Hands on Exercise"
      ],
      "metadata": {
        "id": "Ma459-oLybI4"
      }
    },
    {
      "cell_type": "markdown",
      "source": [
        "Exercise 2:Simple Calculator\n",
        "\n",
        "Create Calculator that check if a person qualafies for a loan"
      ],
      "metadata": {
        "id": "yCo-L0v1yr75"
      }
    },
    {
      "cell_type": "code",
      "source": [
        "#Personal information\n",
        "age=25\n",
        "annual_income=50000\n",
        "credit_score=720\n",
        "has_collateral=True"
      ],
      "metadata": {
        "id": "dTe89GSdzQlQ"
      },
      "execution_count": null,
      "outputs": []
    },
    {
      "cell_type": "code",
      "source": [
        "#loan Criteria\n",
        "min_age=18\n",
        "min_income=30000\n",
        "min_credit_score=650"
      ],
      "metadata": {
        "id": "98MvO2I8z4HJ"
      },
      "execution_count": null,
      "outputs": []
    },
    {
      "cell_type": "code",
      "source": [
        "#Check qualification\n",
        "age_qualified= age>=min_age\n",
        "income_qualified=annual_income>=min_income\n",
        "credit_qualified=credit_score>=min_credit_score\n",
        "overall_qulaified=age_qualified and income_qualified and credit_qualified"
      ],
      "metadata": {
        "id": "dxhavv-42_Ix"
      },
      "execution_count": null,
      "outputs": []
    },
    {
      "cell_type": "markdown",
      "source": [
        "##Data Structure"
      ],
      "metadata": {
        "id": "NLd5zGNj-08y"
      }
    },
    {
      "cell_type": "markdown",
      "source": [
        "###Lists"
      ],
      "metadata": {
        "id": "07eIiefO-7VZ"
      }
    },
    {
      "cell_type": "markdown",
      "source": [],
      "metadata": {
        "id": "rqA9kRDo_DHq"
      }
    },
    {
      "cell_type": "markdown",
      "source": [
        "Creating lists"
      ],
      "metadata": {
        "id": "fY4Qyj7w_EDx"
      }
    },
    {
      "cell_type": "code",
      "source": [
        "fruits=[\"apple\",\"bananan\",\"orange\",\"grape\"]\n",
        "number=[10,20,30,40,50]\n",
        "mixed_data=[1,\"Hello\",3.14,True]"
      ],
      "metadata": {
        "id": "8f3xHnfK_I7h"
      },
      "execution_count": null,
      "outputs": []
    },
    {
      "cell_type": "markdown",
      "source": [
        "List indexing(0-based)"
      ],
      "metadata": {
        "id": "RNDOjNrc_mGB"
      }
    },
    {
      "cell_type": "code",
      "source": [
        "fruits=[\"apple\",\"bananan\",\"orange\",\"grape\"]\n",
        "print(f\"First fruit:{fruits[0]}\")\n",
        "print(f\"last fruit:{fruits[-1]}\")\n",
        "print(f\"Second To last Fruit:{fruits[-2]}\")"
      ],
      "metadata": {
        "colab": {
          "base_uri": "https://localhost:8080/"
        },
        "id": "8-RoP9iL_s7r",
        "outputId": "fb6e67cd-8ef8-4abb-b386-699fe97b2fe0"
      },
      "execution_count": null,
      "outputs": [
        {
          "output_type": "stream",
          "name": "stdout",
          "text": [
            "First fruit:apple\n",
            "last fruit:grape\n",
            "Second To last Fruit:orange\n"
          ]
        }
      ]
    },
    {
      "cell_type": "markdown",
      "source": [
        "List Slicing"
      ],
      "metadata": {
        "id": "ItKS4U1yAn6J"
      }
    },
    {
      "cell_type": "code",
      "source": [
        "print(f\"First 2 fruits:{fruits[0:2]}\")\n",
        "print(f\"last 2 fruits:{fruits[-2:]}\")\n",
        "print(f\"all except first:{fruits[1:]}\")"
      ],
      "metadata": {
        "colab": {
          "base_uri": "https://localhost:8080/"
        },
        "id": "41mgiLhBAt8q",
        "outputId": "71540fda-a513-4d48-efbd-eabc2633b469"
      },
      "execution_count": null,
      "outputs": [
        {
          "output_type": "stream",
          "name": "stdout",
          "text": [
            "First 2 fruits:['apple', 'bananan']\n",
            "last 2 fruits:['orange', 'grape']\n",
            "all except first:['bananan', 'orange', 'grape']\n"
          ]
        }
      ]
    },
    {
      "cell_type": "markdown",
      "source": [
        "List Methods"
      ],
      "metadata": {
        "id": "ceNU9ZIsBe_b"
      }
    },
    {
      "cell_type": "code",
      "source": [
        "fruits.append(\"kiwi\") #Add to end\n",
        "fruits.insert(1,\"Strawberry\") #insert at index\n",
        "removed = fruits.pop() #Remove last\n",
        "print(f\"updated list:{fruits}\")\n",
        "print(f\"Removed:{removed}\")"
      ],
      "metadata": {
        "colab": {
          "base_uri": "https://localhost:8080/"
        },
        "id": "CtjZub4oBkK5",
        "outputId": "5fb03ea4-3e12-4882-fde5-58a13b75a167"
      },
      "execution_count": null,
      "outputs": [
        {
          "output_type": "stream",
          "name": "stdout",
          "text": [
            "updated list:['apple', 'Strawberry', 'bananan', 'orange', 'grape']\n",
            "Removed:kiwi\n"
          ]
        }
      ]
    },
    {
      "cell_type": "markdown",
      "source": [
        "List Operation"
      ],
      "metadata": {
        "id": "OQAqiUV9CWH5"
      }
    },
    {
      "cell_type": "code",
      "source": [
        "print(f\"lenght:{len(fruits)}\")\n",
        "print(f\"contious 'apple':{'apple' in fruits}\")\n",
        "print(f\"Index of 'bananan':{fruits.index('bananan')}\")"
      ],
      "metadata": {
        "colab": {
          "base_uri": "https://localhost:8080/"
        },
        "id": "EhW7sxtrCZB6",
        "outputId": "959a8136-1d32-4973-98f1-10b8deca04ee"
      },
      "execution_count": null,
      "outputs": [
        {
          "output_type": "stream",
          "name": "stdout",
          "text": [
            "lenght:5\n",
            "contious 'apple':True\n",
            "Index of 'bananan':2\n"
          ]
        }
      ]
    },
    {
      "cell_type": "markdown",
      "source": [
        "##Tuples"
      ],
      "metadata": {
        "id": "JP2XIUPzDkxp"
      }
    },
    {
      "cell_type": "markdown",
      "source": [
        "###Tuples are immutable"
      ],
      "metadata": {
        "id": "Lic7Fg4QDpyJ"
      }
    },
    {
      "cell_type": "code",
      "source": [
        "coordinate=(10,20)\n",
        "rgb_color=(255,128,0)\n",
        "person_info=(\"Alice\",25,\"Engineer\",True)"
      ],
      "metadata": {
        "id": "VSuRUaQMD7Fh"
      },
      "execution_count": null,
      "outputs": []
    },
    {
      "cell_type": "markdown",
      "source": [
        "Tuple unpacking"
      ],
      "metadata": {
        "id": "tZk-msvfEdDq"
      }
    },
    {
      "cell_type": "code",
      "source": [
        "x,y=coordinate\n",
        "print(f\"x:{x}, y:{y}\")"
      ],
      "metadata": {
        "colab": {
          "base_uri": "https://localhost:8080/"
        },
        "id": "xy3kuo3fEmbi",
        "outputId": "e24bbf38-6a36-4237-8711-e34660e3ec0d"
      },
      "execution_count": null,
      "outputs": [
        {
          "output_type": "stream",
          "name": "stdout",
          "text": [
            "x:10, y:20\n"
          ]
        }
      ]
    },
    {
      "cell_type": "markdown",
      "source": [
        "###Tuple Methods"
      ],
      "metadata": {
        "id": "Z-roNjBnFj5B"
      }
    },
    {
      "cell_type": "code",
      "source": [
        "print(f\"Count of 25:{person_info.count(25)}\")\n",
        "print(f\"Index od 'Engineer':{person_info.index('Engineer')}\")"
      ],
      "metadata": {
        "colab": {
          "base_uri": "https://localhost:8080/"
        },
        "id": "AOfjNXsMFqvh",
        "outputId": "d0706481-30ec-4035-f2bc-de3bb1e43f30"
      },
      "execution_count": null,
      "outputs": [
        {
          "output_type": "stream",
          "name": "stdout",
          "text": [
            "Count of 25:1\n",
            "Index od 'Engineer':2\n"
          ]
        }
      ]
    },
    {
      "cell_type": "markdown",
      "source": [
        "###why use tuples ??\n",
        "\n",
        "*   Immuatable(safe for dicitionary keys)\n",
        "*   slighlty faster than list\n",
        "*   Good for fixed collections\n",
        "\n",
        "\n",
        "\n",
        "\n"
      ],
      "metadata": {
        "id": "UCzKiPxbGOKq"
      }
    },
    {
      "cell_type": "markdown",
      "source": [
        "##Dictionaries"
      ],
      "metadata": {
        "id": "lDPQ_mf3BrTF"
      }
    },
    {
      "cell_type": "markdown",
      "source": [
        "####Dictonaries Creation"
      ],
      "metadata": {
        "id": "04pUS95bEKDV"
      }
    },
    {
      "cell_type": "code",
      "source": [
        "person={\n",
        "    \"name\":\"Alice\",\n",
        "    \"age\":23,\n",
        "    \"profession\":\"Software Engineer\",\n",
        "    \"salary\":75000,\n",
        "    \"skills\":[\"Python\",\"Javascript\",\"SQL\"]\n",
        "}"
      ],
      "metadata": {
        "id": "cQ7cmnvdETTd"
      },
      "execution_count": null,
      "outputs": []
    },
    {
      "cell_type": "markdown",
      "source": [
        "####Accessing Values"
      ],
      "metadata": {
        "id": "O0nk7lsZFG2N"
      }
    },
    {
      "cell_type": "code",
      "source": [
        "print(f\"Name:{person['name']}\")\n",
        "print(f\"Skills:{person.get('age','Unknown')}\") #Safe Acessing"
      ],
      "metadata": {
        "colab": {
          "base_uri": "https://localhost:8080/"
        },
        "id": "Cs4I5C84FNQN",
        "outputId": "b83b9df0-81be-4d61-eeb0-a7655a94c2bd"
      },
      "execution_count": null,
      "outputs": [
        {
          "output_type": "stream",
          "name": "stdout",
          "text": [
            "Name:Alice\n",
            "Skills:23\n"
          ]
        }
      ]
    },
    {
      "cell_type": "markdown",
      "source": [
        "###Dictionaries Methods"
      ],
      "metadata": {
        "id": "N7qTBytCGDGl"
      }
    },
    {
      "cell_type": "code",
      "source": [
        "print(f\"Keys:{person.keys()}\")\n",
        "print(f\"Values:{person.values()}\")\n",
        "print(f\"Items:{person.items()}\")\n"
      ],
      "metadata": {
        "colab": {
          "base_uri": "https://localhost:8080/"
        },
        "id": "xNnBjM-KGKCd",
        "outputId": "8e427bbb-5bc0-4ac5-d87d-d55347b21c22"
      },
      "execution_count": null,
      "outputs": [
        {
          "output_type": "stream",
          "name": "stdout",
          "text": [
            "Keys:dict_keys(['name', 'age', 'profession', 'salary', 'skills'])\n",
            "Values:dict_values(['Alice', 23, 'Software Engineer', 75000, ['Python', 'Javascript', 'SQL']])\n",
            "Items:dict_items([('name', 'Alice'), ('age', 23), ('profession', 'Software Engineer'), ('salary', 75000), ('skills', ['Python', 'Javascript', 'SQL'])])\n"
          ]
        }
      ]
    },
    {
      "cell_type": "markdown",
      "source": [
        "###Adding/Updating"
      ],
      "metadata": {
        "id": "aOoBxzLZGoP9"
      }
    },
    {
      "cell_type": "code",
      "source": [
        "person[\"location\"]=\"New York\"\n",
        "person[\"Salary\"]=800000 #updating existing"
      ],
      "metadata": {
        "id": "rnEc-8wnGsBt"
      },
      "execution_count": null,
      "outputs": []
    },
    {
      "cell_type": "markdown",
      "source": [
        "###Practical Use Case:Inventory Management"
      ],
      "metadata": {
        "id": "guyMMM5RG9jV"
      }
    },
    {
      "cell_type": "code",
      "source": [
        "inventory={\n",
        "    \"laptops\":{\n",
        "        \"quantity\":50,\n",
        "        \"price\":999.99,\n",
        "    },\n",
        "    \"phones\":{\n",
        "        \"quantity\":100,\n",
        "        \"price\":599.00,\n",
        "    },\n",
        "    \"tablets\":{\n",
        "        \"quantity\":30,\n",
        "        \"price\":399.00,\n",
        "    }\n",
        "}"
      ],
      "metadata": {
        "id": "LbOjScBdHI9V"
      },
      "execution_count": null,
      "outputs": []
    },
    {
      "cell_type": "markdown",
      "source": [
        "Nested Access"
      ],
      "metadata": {
        "id": "p8e01-NjJAaO"
      }
    },
    {
      "cell_type": "code",
      "source": [
        "print(f\"laptops prices:${inventory['laptops']['price']}\")"
      ],
      "metadata": {
        "colab": {
          "base_uri": "https://localhost:8080/"
        },
        "id": "HKjdr1KAJHUV",
        "outputId": "8f060619-e7ea-4f37-a96d-3c46338820f9"
      },
      "execution_count": null,
      "outputs": [
        {
          "output_type": "stream",
          "name": "stdout",
          "text": [
            "laptops prices:$999.99\n"
          ]
        }
      ]
    },
    {
      "cell_type": "markdown",
      "source": [
        "##sets"
      ],
      "metadata": {
        "id": "1ThmWFs7JXYN"
      }
    },
    {
      "cell_type": "markdown",
      "source": [
        "###sets contain unqiue elements"
      ],
      "metadata": {
        "id": "m8LxVAUxJbdu"
      }
    },
    {
      "cell_type": "code",
      "source": [
        "colors={\"red\",\"green\",\"blue\",\"red\"}\n",
        "print(f\"colors:{colors}\")"
      ],
      "metadata": {
        "colab": {
          "base_uri": "https://localhost:8080/"
        },
        "id": "FfPlfbjsJg4m",
        "outputId": "25cda9d6-eee7-401b-d5b5-a8696242043b"
      },
      "execution_count": null,
      "outputs": [
        {
          "output_type": "stream",
          "name": "stdout",
          "text": [
            "colors:{'red', 'blue', 'green'}\n"
          ]
        }
      ]
    },
    {
      "cell_type": "markdown",
      "source": [
        "Sets Operations"
      ],
      "metadata": {
        "id": "DJyYQJYdJuB_"
      }
    },
    {
      "cell_type": "code",
      "source": [
        "team1_skills={\"Python\",\"Javascript\",\"SQL\",\"React\"}\n",
        "team2_skills={\"Javascript\",\"SQL\",\"Java\",\"Spring\"}"
      ],
      "metadata": {
        "id": "WlaTFjB8Jxxe"
      },
      "execution_count": null,
      "outputs": []
    },
    {
      "cell_type": "markdown",
      "source": [
        "Common Operations"
      ],
      "metadata": {
        "id": "DLf-cqp8KfgO"
      }
    },
    {
      "cell_type": "code",
      "source": [
        "print(f\"Common Skills:{team1_skills.intersection(team2_skills)}\")\n",
        "print(f\"all Skills:{team1_skills.union(team2_skills)}\")\n",
        "print(f\"Team1_only:{team1_skills.difference(team2_skills)}\")"
      ],
      "metadata": {
        "colab": {
          "base_uri": "https://localhost:8080/"
        },
        "id": "Hv9MKL1uKktG",
        "outputId": "9b67a057-3292-4793-f472-a93f308e367e"
      },
      "execution_count": null,
      "outputs": [
        {
          "output_type": "stream",
          "name": "stdout",
          "text": [
            "Common Skills:{'Javascript', 'SQL'}\n",
            "all Skills:{'React', 'SQL', 'Java', 'Python', 'Spring', 'Javascript'}\n",
            "Team1_only:{'React', 'Python'}\n"
          ]
        }
      ]
    },
    {
      "cell_type": "markdown",
      "source": [
        "Adding Sets"
      ],
      "metadata": {
        "id": "IaeEArTjLsZP"
      }
    },
    {
      "cell_type": "code",
      "source": [
        "colors.add(\"yellow\")\n",
        "colors.update([\"purple\",\"orange\"])\n",
        "print(f\"Updated colors:{colors}\")"
      ],
      "metadata": {
        "colab": {
          "base_uri": "https://localhost:8080/"
        },
        "id": "bxlWavEGLvgf",
        "outputId": "42ed6223-88b8-4ad0-c993-81e59f68a264"
      },
      "execution_count": null,
      "outputs": [
        {
          "output_type": "stream",
          "name": "stdout",
          "text": [
            "Updated colors:{'orange', 'red', 'green', 'purple', 'yellow', 'blue'}\n"
          ]
        }
      ]
    },
    {
      "cell_type": "markdown",
      "source": [
        "#Control Flow"
      ],
      "metadata": {
        "id": "yU1uSwgjNaTg"
      }
    },
    {
      "cell_type": "markdown",
      "source": [
        "###Conditional Statements"
      ],
      "metadata": {
        "id": "Wbd7d9aBOWfI"
      }
    },
    {
      "cell_type": "markdown",
      "source": [
        "Basic if-else"
      ],
      "metadata": {
        "id": "DAv-NXGIOoMY"
      }
    },
    {
      "cell_type": "code",
      "source": [
        "def get_grade_letter(score):\n",
        "  if score>=90:\n",
        "    return \"A\"\n",
        "  elif score >=80:\n",
        "    return \"B\"\n",
        "  elif score >=70:\n",
        "    return \"C\"\n",
        "  elif score >=60:\n",
        "    return \"D\"\n",
        "  else:\n",
        "    return \"F\""
      ],
      "metadata": {
        "id": "RXDfHQzUO-Dg"
      },
      "execution_count": null,
      "outputs": []
    },
    {
      "cell_type": "markdown",
      "source": [
        "####Test The Function"
      ],
      "metadata": {
        "id": "wwJlERn9QRLA"
      }
    },
    {
      "cell_type": "code",
      "source": [
        "test_scores=[95,83,72,65,58]\n",
        "for score in test_scores:\n",
        "  grade=get_grade_letter(score)\n",
        "  print(f\"Score{score}:Grade{grade}\")"
      ],
      "metadata": {
        "colab": {
          "base_uri": "https://localhost:8080/"
        },
        "id": "QFJ4n8SmQX9v",
        "outputId": "826d7304-32a3-4476-b601-35dd0f35ee2a"
      },
      "execution_count": null,
      "outputs": [
        {
          "output_type": "stream",
          "name": "stdout",
          "text": [
            "Score95:GradeA\n",
            "Score83:GradeB\n",
            "Score72:GradeC\n",
            "Score65:GradeD\n",
            "Score58:GradeF\n"
          ]
        }
      ]
    },
    {
      "cell_type": "markdown",
      "source": [
        "###Nested conditions"
      ],
      "metadata": {
        "id": "p1wRdroQRGeA"
      }
    },
    {
      "cell_type": "code",
      "source": [
        "def get_shipping_cost(weight,distance):\n",
        "  base_cost=5.0\n",
        "\n",
        "  if weight <=1:\n",
        "    weight_cost=2.0\n",
        "  elif weight <=5:\n",
        "    weight_cost=5.0\n",
        "  else:\n",
        "    weight_cost=10.0\n",
        "\n",
        "  if distance <= 100:\n",
        "    distance_cost=1.0\n",
        "  elif distance <= 500:\n",
        "    distance_cost=3.0\n",
        "  else:\n",
        "    distance_cost=7.0\n",
        "  return base_cost + weight_cost +distance_cost\n"
      ],
      "metadata": {
        "id": "ZaxWNZQgRNwQ"
      },
      "execution_count": null,
      "outputs": []
    },
    {
      "cell_type": "markdown",
      "source": [
        "Test Shipping Costs"
      ],
      "metadata": {
        "id": "EHvz51OqSx6Q"
      }
    },
    {
      "cell_type": "code",
      "source": [
        "print(f\"light close:${get_shipping_cost(0.5 ,50)}\")\n",
        "print(f\"Heavy far:${get_shipping_cost(10,800)}\")"
      ],
      "metadata": {
        "colab": {
          "base_uri": "https://localhost:8080/"
        },
        "id": "wSQBX6rmS3Lg",
        "outputId": "d35c7dc6-515c-4fbe-f353-72fd6a35590e"
      },
      "execution_count": null,
      "outputs": [
        {
          "output_type": "stream",
          "name": "stdout",
          "text": [
            "light close:$8.0\n",
            "Heavy far:$22.0\n"
          ]
        }
      ]
    },
    {
      "cell_type": "markdown",
      "source": [
        "##Loops-For loop"
      ],
      "metadata": {
        "id": "qbCP5OmTThNJ"
      }
    },
    {
      "cell_type": "markdown",
      "source": [
        "Basics for loop"
      ],
      "metadata": {
        "id": "lVMgsIZSUK7h"
      }
    },
    {
      "cell_type": "code",
      "source": [
        "fruits=[\"apple\",\"bananan\",\"orange\",\"grapes\"]\n",
        "for fruit in fruits:\n",
        "  print(f\"i like {fruit}\")"
      ],
      "metadata": {
        "colab": {
          "base_uri": "https://localhost:8080/"
        },
        "id": "dVQqb5GZUPyR",
        "outputId": "3836b568-cf89-441e-b8ef-f047ecacd419"
      },
      "execution_count": null,
      "outputs": [
        {
          "output_type": "stream",
          "name": "stdout",
          "text": [
            "i like apple\n",
            "i like bananan\n",
            "i like orange\n",
            "i like grapes\n"
          ]
        }
      ]
    },
    {
      "cell_type": "markdown",
      "source": [
        "##Loops With enumerate (get index)\n"
      ],
      "metadata": {
        "id": "4JBiFzg3W1Qy"
      }
    },
    {
      "cell_type": "code",
      "source": [
        "for i,fruit in enumerate(fruits):\n",
        "  print(f\"{i+1}.{fruit}\")\n"
      ],
      "metadata": {
        "colab": {
          "base_uri": "https://localhost:8080/"
        },
        "id": "Mopcz3TVXB9h",
        "outputId": "3237f96c-a6c2-471e-8b14-184d16a9336f"
      },
      "execution_count": null,
      "outputs": [
        {
          "output_type": "stream",
          "name": "stdout",
          "text": [
            "1.apple\n",
            "2.bananan\n",
            "3.orange\n",
            "4.grapes\n"
          ]
        }
      ]
    },
    {
      "cell_type": "markdown",
      "source": [
        "##Loop With Range"
      ],
      "metadata": {
        "id": "wnMOJM1SXscS"
      }
    },
    {
      "cell_type": "code",
      "source": [
        "for day in range(1,8):\n",
        "  print(f\"Day {day} of the Week\")"
      ],
      "metadata": {
        "colab": {
          "base_uri": "https://localhost:8080/"
        },
        "id": "rlxjV5SKX0oa",
        "outputId": "1bd6c2ff-a368-42ce-d14b-164372b49b44"
      },
      "execution_count": null,
      "outputs": [
        {
          "output_type": "stream",
          "name": "stdout",
          "text": [
            "Day 1 of the Week\n",
            "Day 2 of the Week\n",
            "Day 3 of the Week\n",
            "Day 4 of the Week\n",
            "Day 5 of the Week\n",
            "Day 6 of the Week\n",
            "Day 7 of the Week\n"
          ]
        }
      ]
    },
    {
      "cell_type": "markdown",
      "source": [
        "###Nested loops-Creating a multiplication table"
      ],
      "metadata": {
        "id": "IPwygCx3YYMK"
      }
    },
    {
      "cell_type": "code",
      "source": [
        "print(f\"Multiplication Table\")\n",
        "for i in range (1,6):\n",
        "  for j in range(1,6):\n",
        "    product =i+j\n",
        "    print(f\"{i}X{j}={product:2d}\",end=\"\")\n",
        "    print() #new line"
      ],
      "metadata": {
        "colab": {
          "base_uri": "https://localhost:8080/"
        },
        "id": "w4AoJ7kuYmsq",
        "outputId": "d7c29c7d-1e14-4c94-fa33-c39a1c88baae"
      },
      "execution_count": null,
      "outputs": [
        {
          "output_type": "stream",
          "name": "stdout",
          "text": [
            "Multiplication Table\n",
            "1X1= 2\n",
            "1X2= 3\n",
            "1X3= 4\n",
            "1X4= 5\n",
            "1X5= 6\n",
            "2X1= 3\n",
            "2X2= 4\n",
            "2X3= 5\n",
            "2X4= 6\n",
            "2X5= 7\n",
            "3X1= 4\n",
            "3X2= 5\n",
            "3X3= 6\n",
            "3X4= 7\n",
            "3X5= 8\n",
            "4X1= 5\n",
            "4X2= 6\n",
            "4X3= 7\n",
            "4X4= 8\n",
            "4X5= 9\n",
            "5X1= 6\n",
            "5X2= 7\n",
            "5X3= 8\n",
            "5X4= 9\n",
            "5X5=10\n"
          ]
        }
      ]
    },
    {
      "cell_type": "markdown",
      "source": [
        "####Processing Data with loops\n"
      ],
      "metadata": {
        "id": "7E4qH8gtZTgy"
      }
    },
    {
      "cell_type": "code",
      "source": [
        "sales_data=[\n",
        "    {\"product\":\"Laptop\",\"price\":999,\"quantity\":5},\n",
        "    {\"product\":\"Phone\",\"price\":599,\"quantity\":10},\n",
        "    {\"product\":\"Tablets\",\"price\":399,\"quantity\":8},\n",
        "]\n",
        "\n",
        "total_revenue=0\n",
        "\n",
        "for item in sales_data:\n",
        "  item_revenue=item[\"price\"]*item[\"quantity\"]\n",
        "  total_revenue+=item_revenue\n",
        "  print(f\"{item['product']}:${item_revenue}\")\n",
        "\n",
        "  print(f\"Total Revenue:${total_revenue}\")"
      ],
      "metadata": {
        "colab": {
          "base_uri": "https://localhost:8080/"
        },
        "id": "N-vW3lz5ZZRJ",
        "outputId": "2c3281cc-1558-46c6-b620-c0ddb493675b"
      },
      "execution_count": null,
      "outputs": [
        {
          "output_type": "stream",
          "name": "stdout",
          "text": [
            "Laptop:$4995\n",
            "Total Revenue:$4995\n",
            "Phone:$5990\n",
            "Total Revenue:$10985\n",
            "Tablets:$3192\n",
            "Total Revenue:$14177\n"
          ]
        }
      ]
    },
    {
      "cell_type": "markdown",
      "source": [
        "##Loops-While loop"
      ],
      "metadata": {
        "id": "upWpNOjGsAPv"
      }
    },
    {
      "cell_type": "markdown",
      "source": [
        "###While loops for user input simpulation"
      ],
      "metadata": {
        "id": "OpNRdx5jt-nP"
      }
    },
    {
      "cell_type": "code",
      "source": [
        "def simple_guessing_game():\n",
        "  target=7\n",
        "  guess=0\n",
        "  attempts=0\n",
        "  print(\"Guess the number Between 1 to 10!\")\n",
        "\n",
        "  while guess != target:\n",
        "\n",
        "    #simulate user input\n",
        "    import random\n",
        "    guess =random.randint(1, 10)\n",
        "    attempts += 1\n",
        "\n",
        "    if guess<target:\n",
        "      print(f\"Guess {attempts}: {guess} -Too low!\")\n",
        "    elif guess > target:\n",
        "      print(f\"Guess {attempts}: {guess} -Too high!\")\n",
        "    else:\n",
        "       print(f\"Guess {attempts}: {guess} -Correct!\")\n",
        "\n",
        "\n",
        "  #Safety Check\n",
        "       if attempts>10:\n",
        "          print(\"Max attempts reached!\")\n",
        "          break\n",
        "\n",
        "       print(f\"Game finished in{attempts} attempts\")\n",
        "\n",
        "simple_guessing_game()"
      ],
      "metadata": {
        "colab": {
          "base_uri": "https://localhost:8080/"
        },
        "id": "rCe6fUkbuTVw",
        "outputId": "d01e6106-797b-41eb-c97a-156c80369723"
      },
      "execution_count": null,
      "outputs": [
        {
          "output_type": "stream",
          "name": "stdout",
          "text": [
            "Guess the number Between 1 to 10!\n",
            "Guess 1: 4 -Too low!\n",
            "Guess 2: 4 -Too low!\n",
            "Guess 3: 10 -Too high!\n",
            "Guess 4: 5 -Too low!\n",
            "Guess 5: 4 -Too low!\n",
            "Guess 6: 1 -Too low!\n",
            "Guess 7: 10 -Too high!\n",
            "Guess 8: 7 -Correct!\n",
            "Game finished in8 attempts\n"
          ]
        }
      ]
    },
    {
      "cell_type": "markdown",
      "source": [
        "###While loop for processing"
      ],
      "metadata": {
        "id": "vrG34royy9vx"
      }
    },
    {
      "cell_type": "code",
      "source": [
        "def process_queue():\n",
        "  queue=[\"Task1\",\"Task2\",\"Task3\",\"Task4\"]\n",
        "\n",
        "  while queue:\n",
        "    current_task=queue.pop(0)# remove first item\n",
        "    print(f\"processing:{current_task}\")\n",
        "\n",
        "    print(f\"remaining tasks:{len(queue)}\")\n",
        "  print(f\"All Tasks Completed!\")\n",
        "process_queue()"
      ],
      "metadata": {
        "colab": {
          "base_uri": "https://localhost:8080/"
        },
        "id": "ca9c_BSQzFGx",
        "outputId": "a2b35bd1-e73a-4073-edf9-bc4df65e05e5"
      },
      "execution_count": null,
      "outputs": [
        {
          "output_type": "stream",
          "name": "stdout",
          "text": [
            "processing:Task1\n",
            "remaining tasks:3\n",
            "processing:Task2\n",
            "remaining tasks:2\n",
            "processing:Task3\n",
            "remaining tasks:1\n",
            "processing:Task4\n",
            "remaining tasks:0\n",
            "All Tasks Completed!\n"
          ]
        }
      ]
    },
    {
      "cell_type": "markdown",
      "source": [
        "##Functions"
      ],
      "metadata": {
        "id": "7LJ0gNRi0VfR"
      }
    },
    {
      "cell_type": "markdown",
      "source": [
        "###Functions Basics"
      ],
      "metadata": {
        "id": "A2X8Luov1JDC"
      }
    },
    {
      "cell_type": "markdown",
      "source": [
        "Basics function definition"
      ],
      "metadata": {
        "id": "0I-MOG_z1PWh"
      }
    },
    {
      "cell_type": "code",
      "source": [
        "def greet(name):\n",
        "  return f\"Hello , {name}!\""
      ],
      "metadata": {
        "id": "jPDy1e-g1WrS"
      },
      "execution_count": null,
      "outputs": []
    },
    {
      "cell_type": "markdown",
      "source": [
        "Function Call"
      ],
      "metadata": {
        "id": "O1XlfAB01qHa"
      }
    },
    {
      "cell_type": "code",
      "source": [
        "message = greet(\"Python progrommer\")\n",
        "print(message)"
      ],
      "metadata": {
        "colab": {
          "base_uri": "https://localhost:8080/"
        },
        "id": "8i1Cqm121vTB",
        "outputId": "99bd6553-8fa9-4595-93d7-754d702cbca5"
      },
      "execution_count": null,
      "outputs": [
        {
          "output_type": "stream",
          "name": "stdout",
          "text": [
            "Hello , Python progrommer!\n"
          ]
        }
      ]
    },
    {
      "cell_type": "markdown",
      "source": [
        "###function with multiple parameters\n"
      ],
      "metadata": {
        "id": "-Janfihj2wIJ"
      }
    },
    {
      "cell_type": "code",
      "source": [
        "def calculate_area(length,width):\n",
        "  area=length * width\n",
        "  return area"
      ],
      "metadata": {
        "id": "7ls6FAfO22da"
      },
      "execution_count": null,
      "outputs": []
    },
    {
      "cell_type": "markdown",
      "source": [
        "###Test the function"
      ],
      "metadata": {
        "id": "YKxS3EMZ3JeC"
      }
    },
    {
      "cell_type": "code",
      "source": [
        "room_area = calculate_area(12,10)\n",
        "print(f\"Room Area:{room_area} square feet\")"
      ],
      "metadata": {
        "colab": {
          "base_uri": "https://localhost:8080/"
        },
        "id": "gI5owIld3PAq",
        "outputId": "c4991fb6-8b01-4366-c980-6d91dfe71378"
      },
      "execution_count": null,
      "outputs": [
        {
          "output_type": "stream",
          "name": "stdout",
          "text": [
            "Room Area:120 square feet\n"
          ]
        }
      ]
    },
    {
      "cell_type": "markdown",
      "source": [
        "###Function With Defalut Parameter"
      ],
      "metadata": {
        "id": "vah1F-Wc4KT7"
      }
    },
    {
      "cell_type": "code",
      "source": [
        "def create_user_profile(name,age=18,location=\"unknown\",active=True):\n",
        "  return{\n",
        "      \"name\":name,\n",
        "      \"age\":age,\n",
        "      \"location\":location,\n",
        "      \"active\":active\n",
        "  }"
      ],
      "metadata": {
        "id": "Rg0aeJ0H4Qpa"
      },
      "execution_count": null,
      "outputs": []
    },
    {
      "cell_type": "markdown",
      "source": [
        "###Different Ways to call\n"
      ],
      "metadata": {
        "id": "FbjZ9jWs5BeC"
      }
    },
    {
      "cell_type": "code",
      "source": [
        "profile1=create_user_profile(\"Alice\") #use defaults\n",
        "profile2=create_user_profile(\"Bob\",25) #override age\n",
        "profile3=create_user_profile(\"Charlie\",location=\"New York\", age=30)  #Named parameters\n",
        "\n",
        "print(f\"Profiles1:{profile1}\")\n",
        "print(f\"Profiles2:{profile2}\")\n",
        "print(f\"Profiles3:{profile3}\")"
      ],
      "metadata": {
        "colab": {
          "base_uri": "https://localhost:8080/"
        },
        "id": "u5Vwk7Ry5JSz",
        "outputId": "81ac756c-e588-40b7-d812-dd549f6778a4"
      },
      "execution_count": null,
      "outputs": [
        {
          "output_type": "stream",
          "name": "stdout",
          "text": [
            "Profiles1:{'name': 'Alice', 'age': 18, 'location': 'unknown', 'active': True}\n",
            "Profiles2:{'name': 'Bob', 'age': 25, 'location': 'unknown', 'active': True}\n",
            "Profiles3:{'name': 'Charlie', 'age': 30, 'location': 'New York', 'active': True}\n"
          ]
        }
      ]
    },
    {
      "cell_type": "markdown",
      "source": [
        "##Advanced Function Concepts"
      ],
      "metadata": {
        "id": "mx8Hh0nU8Dir"
      }
    },
    {
      "cell_type": "markdown",
      "source": [
        "Function rerturing multiple values"
      ],
      "metadata": {
        "id": "1gcvSLJR8LdC"
      }
    },
    {
      "cell_type": "code",
      "source": [
        "def analyze_text(text):\n",
        "  words=text.split()\n",
        "  word_count=len(words)\n",
        "  char_count=len(text)\n",
        "  char_count_no_spaces =len(text.replace(\" \",\"\"))\n",
        "\n",
        "  return word_count,char_count,char_count_no_spaces"
      ],
      "metadata": {
        "id": "wzCJi2gG8VPD"
      },
      "execution_count": null,
      "outputs": []
    },
    {
      "cell_type": "markdown",
      "source": [
        "Test With Sample Text"
      ],
      "metadata": {
        "id": "44Z9Xvu39bw7"
      }
    },
    {
      "cell_type": "code",
      "source": [
        "sample_text =\"Python is a powerful programming language\"\n",
        "\n",
        "words, chars,chars_no_space= analyze_text(sample_text)\n",
        "\n",
        "print(f\"Text:'{sample_text}'\")\n",
        "print(f\"Word count:{words}\")\n",
        "print(f\"Character count:{chars}\")\n",
        "print(f\"character count(no spaces):{chars_no_space})\")"
      ],
      "metadata": {
        "colab": {
          "base_uri": "https://localhost:8080/"
        },
        "id": "0INEJ0bv9i9z",
        "outputId": "6254726a-2c95-46ef-9d65-18ff1554ec96"
      },
      "execution_count": null,
      "outputs": [
        {
          "output_type": "stream",
          "name": "stdout",
          "text": [
            "Text:'Python is a powerful programming language'\n",
            "Word count:6\n",
            "Character count:41\n",
            "character count(no spaces):36)\n"
          ]
        }
      ]
    },
    {
      "cell_type": "markdown",
      "source": [
        "Variables-lenght arguments"
      ],
      "metadata": {
        "id": "m_qx8ypJ_zS8"
      }
    },
    {
      "cell_type": "code",
      "source": [
        "def calculate_average(*numbers):\n",
        "  if not numbers:\n",
        "    return 0\n",
        "\n",
        "  return sum(numbers) / len(numbers)"
      ],
      "metadata": {
        "id": "ve0ontA_AA81"
      },
      "execution_count": null,
      "outputs": []
    },
    {
      "cell_type": "markdown",
      "source": [
        "Test with Different Arguments"
      ],
      "metadata": {
        "id": "Jf-tK9Y8AYq8"
      }
    },
    {
      "cell_type": "code",
      "source": [
        "avg1=calculate_average(10,20,30)\n",
        "avg2=calculate_average(5,15,25,35,45)\n",
        "avg3=calculate_average(100)\n",
        "\n",
        "print(f\"Average of 10,20,30:{avg1}\")\n",
        "print(f\"Average of 5,15,25,35,45:{avg2}\")\n",
        "print(f\"Average of 100:{avg3}\")"
      ],
      "metadata": {
        "colab": {
          "base_uri": "https://localhost:8080/"
        },
        "id": "0nHZjgoCAgt0",
        "outputId": "a32c14c2-85b2-4951-8186-9db9403ffa58"
      },
      "execution_count": null,
      "outputs": [
        {
          "output_type": "stream",
          "name": "stdout",
          "text": [
            "Average of 10,20,30:20.0\n",
            "Average of 5,15,25,35,45:25.0\n",
            "Average of 100:100.0\n"
          ]
        }
      ]
    },
    {
      "cell_type": "markdown",
      "source": [
        "keyword Arguments"
      ],
      "metadata": {
        "id": "qKQv9no6BQYs"
      }
    },
    {
      "cell_type": "code",
      "source": [
        "def create_report(**data):\n",
        "  print(\"==REPORT==\")\n",
        "\n",
        "  for key,value in data.items():\n",
        "    print(f\"{key.replace('_',' ').title()}:{value}\")\n",
        "\n",
        "  print(f\"============================================\")\n",
        "\n",
        "create_report(\n",
        "    title=\"Monthly Sales Report\",\n",
        "    data=\"2024-01-01\",\n",
        "    total_sales=15000,\n",
        "    new_customers=25,\n",
        "    returing_customers=150\n",
        ")"
      ],
      "metadata": {
        "colab": {
          "base_uri": "https://localhost:8080/"
        },
        "id": "5N7_sSp8BXCG",
        "outputId": "a2659dcf-205d-45b8-c4ea-12f3de2c8134"
      },
      "execution_count": null,
      "outputs": [
        {
          "output_type": "stream",
          "name": "stdout",
          "text": [
            "==REPORT==\n",
            "Title:Monthly Sales Report\n",
            "Data:2024-01-01\n",
            "Total Sales:15000\n",
            "New Customers:25\n",
            "Returing Customers:150\n",
            "============================================\n"
          ]
        }
      ]
    },
    {
      "cell_type": "markdown",
      "source": [
        "##Lambda Functions"
      ],
      "metadata": {
        "id": "yXxbmJYQDFAd"
      }
    },
    {
      "cell_type": "markdown",
      "source": [
        "###lambda Function(anonymous functions)"
      ],
      "metadata": {
        "id": "bolietXeDWbl"
      }
    },
    {
      "cell_type": "markdown",
      "source": [
        "Regular function"
      ],
      "metadata": {
        "id": "mTirwv3xDn1c"
      }
    },
    {
      "cell_type": "code",
      "source": [
        "def square(x):\n",
        "  return x  ** 2"
      ],
      "metadata": {
        "id": "ebVm5yehDvl1"
      },
      "execution_count": null,
      "outputs": []
    },
    {
      "cell_type": "markdown",
      "source": [
        "lambda equivalent"
      ],
      "metadata": {
        "id": "xdono6pCFecU"
      }
    },
    {
      "cell_type": "code",
      "source": [
        "square_lambda = lambda x: x ** 2\n",
        "print(f\"Regular function :{square(5)}\")\n",
        "print(f\"Lambda function :{square_lambda(5)}\")"
      ],
      "metadata": {
        "colab": {
          "base_uri": "https://localhost:8080/"
        },
        "id": "VW6yeJCpFnBt",
        "outputId": "65c03b28-cd4d-4baf-e863-0a17f502c891"
      },
      "execution_count": null,
      "outputs": [
        {
          "output_type": "stream",
          "name": "stdout",
          "text": [
            "Regular function :25\n",
            "Lambda function :25\n"
          ]
        }
      ]
    },
    {
      "cell_type": "markdown",
      "source": [
        "lambda with multiple arguments"
      ],
      "metadata": {
        "id": "RZCYYACcGvo-"
      }
    },
    {
      "cell_type": "code",
      "source": [
        "multiply = lambda x, y: x * y\n",
        "print(f\"multiply :{multiply(3,4)}\")"
      ],
      "metadata": {
        "colab": {
          "base_uri": "https://localhost:8080/"
        },
        "id": "7kTeyKyoG31u",
        "outputId": "46a490b1-f6c3-4aac-c900-55c2b7c5d4c8"
      },
      "execution_count": null,
      "outputs": [
        {
          "output_type": "stream",
          "name": "stdout",
          "text": [
            "multiply :12\n"
          ]
        }
      ]
    },
    {
      "cell_type": "markdown",
      "source": [
        "lambda with built-in functions"
      ],
      "metadata": {
        "id": "nOMh_S1lHS0m"
      }
    },
    {
      "cell_type": "code",
      "source": [
        "numbers=[1,2,3,4,5]\n",
        "squared=list(map(lambda x:x**2,numbers))\n",
        "print(f\"Squared:{squared}\")"
      ],
      "metadata": {
        "colab": {
          "base_uri": "https://localhost:8080/"
        },
        "id": "45Kh3-VxHeRm",
        "outputId": "74e33a9a-ca36-41f4-ce28-11402a7f0a4a"
      },
      "execution_count": null,
      "outputs": [
        {
          "output_type": "stream",
          "name": "stdout",
          "text": [
            "Squared:[1, 4, 9, 16, 25]\n"
          ]
        }
      ]
    },
    {
      "cell_type": "markdown",
      "source": [
        "Filtering with Lambda"
      ],
      "metadata": {
        "id": "b3qgYC0oH0TH"
      }
    },
    {
      "cell_type": "code",
      "source": [
        "ages = [16,21,35,12,45,18,67]\n",
        "adults= list(filter(lambda age: age >=18, ages))\n",
        "print(f\"adults ages: {adults}\")"
      ],
      "metadata": {
        "colab": {
          "base_uri": "https://localhost:8080/"
        },
        "id": "ziZmBeFuH6QW",
        "outputId": "dc99638c-6877-4c6f-c7ff-a3fb7bc6d3b8"
      },
      "execution_count": null,
      "outputs": [
        {
          "output_type": "stream",
          "name": "stdout",
          "text": [
            "adults ages: [21, 35, 45, 18, 67]\n"
          ]
        }
      ]
    },
    {
      "cell_type": "markdown",
      "source": [
        "Sorting with lambda"
      ],
      "metadata": {
        "id": "ThmQrushIqEG"
      }
    },
    {
      "cell_type": "code",
      "source": [
        "people = [\n",
        "    {\"name\": \"Alice\",\"age\" : 30},\n",
        "    {\"name\" :\"Bob\",\"age\":25},\n",
        "    {\"name\":\"Charlie\",\"age\":35}\n",
        "]\n",
        "sorted_people=sorted(\n",
        "    people,\n",
        "    key=lambda person : person[\"age\"])\n",
        "print(\"people Sorted by age:\")\n",
        "\n",
        "for person in sorted_people:\n",
        "    print(f\"{person['name']}:{person['age']}\")\n"
      ],
      "metadata": {
        "colab": {
          "base_uri": "https://localhost:8080/"
        },
        "id": "XTLsPGncIwzH",
        "outputId": "b88b8248-d881-4d4c-ea32-20591aeb3e5f"
      },
      "execution_count": null,
      "outputs": [
        {
          "output_type": "stream",
          "name": "stdout",
          "text": [
            "people Sorted by age:\n",
            "Bob:25\n",
            "Alice:30\n",
            "Charlie:35\n"
          ]
        }
      ]
    }
  ]
}